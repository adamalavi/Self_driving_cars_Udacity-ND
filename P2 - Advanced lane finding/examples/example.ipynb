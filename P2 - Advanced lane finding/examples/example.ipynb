{
 "cells": [
  {
   "cell_type": "markdown",
   "metadata": {},
   "source": [
    "## Advanced Lane Finding Project\n",
    "\n",
    "The goals / steps of this project are the following:\n",
    "\n",
    "* Compute the camera calibration matrix and distortion coefficients given a set of chessboard images.\n",
    "* Apply a distortion correction to raw images.\n",
    "* Use color transforms, gradients, etc., to create a thresholded binary image.\n",
    "* Apply a perspective transform to rectify binary image (\"birds-eye view\").\n",
    "* Detect lane pixels and fit to find the lane boundary.\n",
    "* Determine the curvature of the lane and vehicle position with respect to center.\n",
    "* Warp the detected lane boundaries back onto the original image.\n",
    "* Output visual display of the lane boundaries and numerical estimation of lane curvature and vehicle position.\n",
    "\n",
    "---\n",
    "## First, I'll compute the camera calibration using chessboard images"
   ]
  },
  {
   "cell_type": "code",
   "execution_count": 6,
   "metadata": {},
   "outputs": [
    {
     "name": "stdout",
     "output_type": "stream",
     "text": [
      "[[[184 188 199]\n",
      "  [ 34  37  45]\n",
      "  [170 173 177]\n",
      "  ..., \n",
      "  [153 153 153]\n",
      "  [179 179 179]\n",
      "  [155 155 155]]\n",
      "\n",
      " [[ 81  83  93]\n",
      "  [ 27  30  38]\n",
      "  [120 123 127]\n",
      "  ..., \n",
      "  [142 142 142]\n",
      "  [149 149 149]\n",
      "  [152 152 152]]\n",
      "\n",
      " [[114 115 125]\n",
      "  [ 29  31  39]\n",
      "  [136 137 141]\n",
      "  ..., \n",
      "  [133 133 133]\n",
      "  [131 131 131]\n",
      "  [146 146 146]]\n",
      "\n",
      " ..., \n",
      " [[ 35  27  27]\n",
      "  [ 98  93  92]\n",
      "  [123 118 117]\n",
      "  ..., \n",
      "  [129 131 131]\n",
      "  [130 132 132]\n",
      "  [132 134 134]]\n",
      "\n",
      " [[ 40  32  32]\n",
      "  [ 71  63  63]\n",
      "  [117 112 111]\n",
      "  ..., \n",
      "  [131 133 133]\n",
      "  [139 141 141]\n",
      "  [127 129 129]]\n",
      "\n",
      " [[ 47  39  39]\n",
      "  [ 30  22  22]\n",
      "  [ 85  80  79]\n",
      "  ..., \n",
      "  [134 136 136]\n",
      "  [127 129 129]\n",
      "  [ 80  82  82]]]\n"
     ]
    }
   ],
   "source": [
    "import numpy as np\n",
    "import cv2\n",
    "import glob\n",
    "import matplotlib.pyplot as plt\n",
    "%matplotlib qt\n",
    "\n",
    "# prepare object points, like (0,0,0), (1,0,0), (2,0,0) ....,(6,5,0)\n",
    "objp = np.zeros((6*9,3), np.float32)\n",
    "objp[:,:2] = np.mgrid[0:9,0:6].T.reshape(-1,2)\n",
    "\n",
    "# Arrays to store object points and image points from all the images.\n",
    "objpoints = [] # 3d points in real world space\n",
    "imgpoints = [] # 2d points in image plane.\n",
    "\n",
    "# Make a list of calibration images\n",
    "images = glob.glob('../camera_cal/calibration*.jpg')\n",
    "\n",
    "# Step through the list and search for chessboard corners\n",
    "for fname in images:\n",
    "    img = cv2.imread(fname)\n",
    "    gray = cv2.cvtColor(img,cv2.COLOR_BGR2GRAY)\n",
    "\n",
    "    # Find the chessboard corners\n",
    "    ret, corners = cv2.findChessboardCorners(gray, (9,6),None)\n",
    "\n",
    "    # If found, add object points, image points\n",
    "    if ret == True:\n",
    "        objpoints.append(objp)\n",
    "        imgpoints.append(corners)\n",
    "\n",
    "        # Draw and display the corners\n",
    "        img = cv2.drawChessboardCorners(img, (9,6), corners, ret)\n",
    "print(img)"
   ]
  },
  {
   "cell_type": "markdown",
   "metadata": {},
   "source": [
    "## And so on and so forth..."
   ]
  },
  {
   "cell_type": "code",
   "execution_count": null,
   "metadata": {
    "collapsed": true
   },
   "outputs": [],
   "source": []
  }
 ],
 "metadata": {
  "anaconda-cloud": {},
  "kernelspec": {
   "display_name": "Python 3",
   "language": "python",
   "name": "python3"
  },
  "language_info": {
   "codemirror_mode": {
    "name": "ipython",
    "version": 3
   },
   "file_extension": ".py",
   "mimetype": "text/x-python",
   "name": "python",
   "nbconvert_exporter": "python",
   "pygments_lexer": "ipython3",
   "version": "3.6.3"
  }
 },
 "nbformat": 4,
 "nbformat_minor": 1
}
